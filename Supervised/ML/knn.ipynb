In [73]:
import pandas as pd
import numpy as np
import math
import operator
In [102]:
train_data=pd.read_csv('C:/Users/Sai Kumar Guttula/Desktop/Machine Learning/New folder/product-selection/csv_result-trainProdSelection.csv')
test_data=pd.read_csv('C:/Users/Sai Kumar Guttula/Desktop/Machine Learning/New folder/product-selection/csv_result-testProdSelection.csv')
In [105]:
print(train_data)
print(test_data)

train_data_label=train_data[['label']]
print(train_data_label)

test_data_label=test_data[['label']]
print(test_data_label)
          Type      LifeStyle  Vacation  eCredit  salary  property label
0      student   spend>saving         6       40   13.62    3.2804    C1
1      student   spend>saving        11       21   15.32    2.0232    C1
2      student   spend>saving         7       64   16.55    3.1202    C1
3      student   spend>saving         3       47   15.71    3.4022    C1
4      student   spend>saving        15       10   16.96    2.2825    C1
5      student   spend>saving         6       80   15.50    3.7338    C1
6      student   spend<saving        10       49   16.86    5.8639    C1
7      student   spend<saving        10       84   14.66    3.1870    C1
8      student   spend<saving         9       74   13.86    2.3823    C1
9      student  spend>>saving        22       38   13.88    0.7394    C1
10     student  spend>>saving        25       30   15.64    3.1282    C1
11     student  spend>>saving        31       15   14.40    2.3925    C1
12     student  spend>>saving        24       55   15.55    1.9857    C1
13     student  spend>>saving        28       85   13.90    4.3147    C1
14     student  spend<<saving        25       24   15.09    5.1951    C1
15     student  spend<<saving        24       15   13.00    1.6162    C1
16     student  spend<<saving        25       33   14.51    2.5551    C1
17    engineer   spend>saving        23       86   20.04    1.3510    C1
18    engineer   spend>saving        20       69   19.69    7.0714    C1
19    engineer   spend>saving        14       86   20.23    7.4749    C1
20    engineer   spend>saving        41       50   21.00    6.8701    C1
21    engineer   spend>saving        17       38   21.22    1.0881    C1
22    engineer   spend>saving         6       76   19.46    3.1729    C1
23    engineer   spend>saving        38       61   20.91    3.2021    C1
24    engineer   spend>saving        23       45   19.83    4.2150    C1
25    engineer   spend>saving         9       58   19.66    2.4553    C1
26    engineer  spend>>saving        46       20   20.54    1.6447    C1
27    engineer  spend>>saving        53       82   20.93    2.7064    C1
28    engineer  spend>>saving        31       40   19.43    5.7642    C1
29    engineer  spend>>saving        41       46   18.50    8.3453    C1
..         ...            ...       ...      ...     ...       ...   ...
156  professor   spend>saving        49        7   28.84    3.9600    C5
157  professor   spend>saving        49        5   19.42    1.8757    C5
158  professor   spend>saving        50        3   16.31    2.5786    C5
159  professor  spend>>saving        49        5   23.51    2.7638    C5
160  professor  spend>>saving        50        5   22.71    3.3358    C5
161  professor  spend>>saving        50        3   19.59    2.9000    C5
162  professor  spend>>saving        50        3   18.03    2.9419    C5
163  professor  spend>>saving        51        6   26.76    2.3879    C5
164  professor  spend>>saving        49        5   31.55    2.6485    C5
165  professor  spend>>saving        49        3   31.06    2.2395    C5
166  professor  spend>>saving        50        5   31.20    2.4223    C5
167  professor  spend>>saving        50        4   20.92    2.4508    C5
168   engineer   spend>saving        50       18   24.01    0.7380    C5
169   engineer   spend>saving        50       18   21.52    1.6871    C5
170   engineer   spend>saving        51       22   21.99    1.3580    C5
171   engineer   spend>saving        49       22   20.27    1.2342    C5
172   engineer   spend>saving        50       22   21.22    0.5340    C5
173   engineer   spend>saving        51       26   25.94    0.6948    C5
174   engineer   spend>saving        50       24   23.87    1.5738    C5
175   engineer   spend>saving        52       14   16.54    1.5569    C5
176   engineer   spend>saving        50       22   23.09    1.0051    C5
177   engineer  spend>>saving        49       21   23.89    1.5087    C5
178   engineer  spend>>saving        51       20   13.68    1.5669    C5
179   engineer  spend>>saving        49       17   18.79    2.0525    C5
180   engineer  spend>>saving        50       23   20.17    2.3291    C5
181   engineer  spend>>saving        47       23   22.78    1.0410    C5
182   engineer  spend>>saving        51       23   25.56    2.5066    C5
183   engineer  spend>>saving        51       17   15.63    1.6754    C5
184   engineer  spend>>saving        51       13   20.71    1.4585    C5
185   engineer  spend>>saving        49       17   19.18    2.4251    C5

[186 rows x 7 columns]
         Type      LifeStyle  Vacation  eCredit   salary  property label
0     student   spend<saving        12       19  14.7900    3.7697    C1
1     student  spend>>saving        29       10  16.1900    2.4839    C1
2     student  spend<<saving        28       60  15.4600    1.1885    C1
3    engineer   spend>saving        15       41  21.2600    1.4379    C1
4   librarian   spend<saving         2        9  19.7207    0.6913    C1
5   librarian   spend>saving         7        9  12.7098    1.4728    C1
6   professor   spend>saving         5       10  20.8830    1.3131    C1
7   professor   spend<saving         3       15  16.5711    0.4792    C1
8     student   spend<saving         9       71  25.7000    2.0947    C1
9     student   spend>saving        10       67  27.1100    3.8391    C1
10     doctor   spend>saving         7      229  30.6100    7.0074    C1
11     doctor   spend<saving         8      243  25.3300    8.7276    C1
12  professor   spend>saving        51        5  18.9800    2.8944    C1
13     doctor   spend>saving        34       51  19.9000    3.9544    C1
14    student  spend>>saving        39       40  19.3000    3.8317    C1
15    student  spend>>saving        36       57  19.6100    4.8880    C1
16  professor  spend>>saving        34       30  20.9100    2.4095    C1
17  librarian  spend>>saving        48       35  20.1500    2.4436    C1
18  professor  spend>>saving        52        5  22.6300    2.2115    C1
19   engineer   spend>saving        50       17  32.5900    1.2229    C1
20   engineer  spend>>saving        50       15  21.7800    2.0700    C1
    label
0      C1
1      C1
2      C1
3      C1
4      C1
5      C1
6      C1
7      C1
8      C1
9      C1
10     C1
11     C1
12     C1
13     C1
14     C1
15     C1
16     C1
17     C1
18     C1
19     C1
20     C1
21     C1
22     C1
23     C1
24     C1
25     C1
26     C1
27     C1
28     C1
29     C1
..    ...
156    C5
157    C5
158    C5
159    C5
160    C5
161    C5
162    C5
163    C5
164    C5
165    C5
166    C5
167    C5
168    C5
169    C5
170    C5
171    C5
172    C5
173    C5
174    C5
175    C5
176    C5
177    C5
178    C5
179    C5
180    C5
181    C5
182    C5
183    C5
184    C5
185    C5

[186 rows x 1 columns]
   label
0     C1
1     C1
2     C1
3     C1
4     C1
5     C1
6     C1
7     C1
8     C1
9     C1
10    C1
11    C1
12    C1
13    C1
14    C1
15    C1
16    C1
17    C1
18    C1
19    C1
20    C1
In [107]:
train_data=train_data.drop(['Type','LifeStyle','label'],axis=1)

print(train_data)
test_data=test_data.drop(['Type','LifeStyle','label'],axis=1)
print(test_data)
---------------------------------------------------------------------------
KeyError                                  Traceback (most recent call last)
<ipython-input-107-2dde5df22efc> in <module>()
      1 
----> 2 train_data=train_data.drop(['Type','LifeStyle','label'],axis=1)
      3 
      4 print(train_data)
      5 test_data=test_data.drop(['Type','LifeStyle','label'],axis=1)

C:\ProgramData\Anaconda3\lib\site-packages\pandas\core\frame.py in drop(self, labels, axis, index, columns, level, inplace, errors)
   3692                                            index=index, columns=columns,
   3693                                            level=level, inplace=inplace,
-> 3694                                            errors=errors)
   3695 
   3696     @rewrite_axis_style_signature('mapper', [('copy', True),

C:\ProgramData\Anaconda3\lib\site-packages\pandas\core\generic.py in drop(self, labels, axis, index, columns, level, inplace, errors)
   3106         for axis, labels in axes.items():
   3107             if labels is not None:
-> 3108                 obj = obj._drop_axis(labels, axis, level=level, errors=errors)
   3109 
   3110         if inplace:

C:\ProgramData\Anaconda3\lib\site-packages\pandas\core\generic.py in _drop_axis(self, labels, axis, level, errors)
   3138                 new_axis = axis.drop(labels, level=level, errors=errors)
   3139             else:
-> 3140                 new_axis = axis.drop(labels, errors=errors)
   3141             dropped = self.reindex(**{axis_name: new_axis})
   3142             try:

C:\ProgramData\Anaconda3\lib\site-packages\pandas\core\indexes\base.py in drop(self, labels, errors)
   4385             if errors != 'ignore':
   4386                 raise KeyError(
-> 4387                     'labels %s not contained in axis' % labels[mask])
   4388             indexer = indexer[~mask]
   4389         return self.delete(indexer)

KeyError: "labels ['Type' 'LifeStyle' 'label'] not contained in axis"
In [108]:
train_data_norm=(train_data-train_data.min())/(train_data.max()-train_data.min())
print(train_data_norm)
     Vacation   eCredit    salary  property
0    0.079365  0.107558  0.219960  0.183167
1    0.158730  0.052326  0.293102  0.112797
2    0.095238  0.177326  0.346023  0.174200
3    0.031746  0.127907  0.309882  0.189984
4    0.222222  0.020349  0.363663  0.127311
5    0.079365  0.223837  0.300847  0.208545
6    0.142857  0.133721  0.359360  0.327773
7    0.142857  0.235465  0.264706  0.177939
8    0.126984  0.206395  0.230286  0.132897
9    0.333333  0.101744  0.231147  0.040939
10   0.380952  0.078488  0.306870  0.174648
11   0.476190  0.034884  0.253519  0.133468
12   0.365079  0.151163  0.302998  0.110698
13   0.428571  0.238372  0.232007  0.241060
14   0.380952  0.061047  0.283207  0.290338
15   0.365079  0.034884  0.193285  0.090016
16   0.380952  0.087209  0.258252  0.142569
17   0.349206  0.241279  0.496179  0.075172
18   0.301587  0.191860  0.481121  0.395361
19   0.206349  0.241279  0.504354  0.417946
20   0.634921  0.136628  0.537483  0.384094
21   0.253968  0.101744  0.546949  0.060457
22   0.079365  0.212209  0.471225  0.177150
23   0.587302  0.168605  0.533611  0.178784
24   0.349206  0.122093  0.487144  0.235479
25   0.126984  0.159884  0.479830  0.136983
26   0.714286  0.049419  0.517692  0.091611
27   0.825397  0.229651  0.534471  0.151038
28   0.476190  0.107558  0.469934  0.322193
29   0.634921  0.125000  0.429921  0.466665
..        ...       ...       ...       ...
156  0.761905  0.011628  0.874798  0.221206
157  0.761905  0.005814  0.469504  0.104541
158  0.777778  0.000000  0.335697  0.143885
159  0.761905  0.005814  0.645476  0.154251
160  0.777778  0.005814  0.611056  0.186268
161  0.777778  0.000000  0.476818  0.161874
162  0.777778  0.000000  0.409700  0.164220
163  0.793651  0.008721  0.785306  0.133211
164  0.761905  0.005814  0.991395  0.147797
165  0.761905  0.000000  0.970313  0.124904
166  0.777778  0.005814  0.976336  0.135136
167  0.777778  0.002907  0.534041  0.136731
168  0.777778  0.043605  0.666988  0.040860
169  0.777778  0.043605  0.559856  0.093985
170  0.793651  0.055233  0.580078  0.075564
171  0.761905  0.055233  0.506075  0.068634
172  0.777778  0.055233  0.546949  0.029442
173  0.793651  0.066860  0.750026  0.038442
174  0.777778  0.061047  0.660964  0.087643
175  0.809524  0.031977  0.345593  0.086697
176  0.777778  0.055233  0.627405  0.055811
177  0.761905  0.052326  0.661825  0.083999
178  0.793651  0.049419  0.222542  0.087257
179  0.761905  0.040698  0.442398  0.114437
180  0.777778  0.058140  0.501773  0.129919
181  0.730159  0.058140  0.614067  0.057820
182  0.793651  0.058140  0.733676  0.139855
183  0.793651  0.040698  0.306440  0.093330
184  0.793651  0.029070  0.525006  0.081189
185  0.761905  0.040698  0.459178  0.135293

[186 rows x 4 columns]
In [109]:
test_data_norm=(test_data-test_data.min())/(test_data.max()-test_data.min())
print(test_data_norm)
    Vacation   eCredit    salary  property
0       0.20  0.058824  0.104637  0.398926
1       0.54  0.021008  0.175059  0.243041
2       0.52  0.231092  0.138339  0.085992
3       0.26  0.151261  0.430086  0.116229
4       0.00  0.016807  0.352657  0.025714
5       0.10  0.016807  0.000000  0.120460
6       0.06  0.021008  0.411123  0.101098
7       0.02  0.042017  0.194228  0.000000
8       0.14  0.277311  0.653424  0.195856
9       0.16  0.260504  0.724349  0.407340
10      0.10  0.941176  0.900403  0.791450
11      0.12  1.000000  0.634813  1.000000
12      0.98  0.000000  0.315399  0.292808
13      0.64  0.193277  0.361676  0.421318
14      0.74  0.147059  0.331496  0.406442
15      0.68  0.218487  0.347089  0.534504
16      0.64  0.105042  0.412481  0.234021
17      0.92  0.126050  0.374252  0.238155
18      1.00  0.000000  0.498999  0.210016
19      0.96  0.050420  1.000000  0.090163
20      0.96  0.042017  0.456243  0.192862
In [110]:
train_data_norm['label']=train_data_label['label']
print(train_data_norm)
     Vacation   eCredit    salary  property label
0    0.079365  0.107558  0.219960  0.183167    C1
1    0.158730  0.052326  0.293102  0.112797    C1
2    0.095238  0.177326  0.346023  0.174200    C1
3    0.031746  0.127907  0.309882  0.189984    C1
4    0.222222  0.020349  0.363663  0.127311    C1
5    0.079365  0.223837  0.300847  0.208545    C1
6    0.142857  0.133721  0.359360  0.327773    C1
7    0.142857  0.235465  0.264706  0.177939    C1
8    0.126984  0.206395  0.230286  0.132897    C1
9    0.333333  0.101744  0.231147  0.040939    C1
10   0.380952  0.078488  0.306870  0.174648    C1
11   0.476190  0.034884  0.253519  0.133468    C1
12   0.365079  0.151163  0.302998  0.110698    C1
13   0.428571  0.238372  0.232007  0.241060    C1
14   0.380952  0.061047  0.283207  0.290338    C1
15   0.365079  0.034884  0.193285  0.090016    C1
16   0.380952  0.087209  0.258252  0.142569    C1
17   0.349206  0.241279  0.496179  0.075172    C1
18   0.301587  0.191860  0.481121  0.395361    C1
19   0.206349  0.241279  0.504354  0.417946    C1
20   0.634921  0.136628  0.537483  0.384094    C1
21   0.253968  0.101744  0.546949  0.060457    C1
22   0.079365  0.212209  0.471225  0.177150    C1
23   0.587302  0.168605  0.533611  0.178784    C1
24   0.349206  0.122093  0.487144  0.235479    C1
25   0.126984  0.159884  0.479830  0.136983    C1
26   0.714286  0.049419  0.517692  0.091611    C1
27   0.825397  0.229651  0.534471  0.151038    C1
28   0.476190  0.107558  0.469934  0.322193    C1
29   0.634921  0.125000  0.429921  0.466665    C1
..        ...       ...       ...       ...   ...
156  0.761905  0.011628  0.874798  0.221206    C5
157  0.761905  0.005814  0.469504  0.104541    C5
158  0.777778  0.000000  0.335697  0.143885    C5
159  0.761905  0.005814  0.645476  0.154251    C5
160  0.777778  0.005814  0.611056  0.186268    C5
161  0.777778  0.000000  0.476818  0.161874    C5
162  0.777778  0.000000  0.409700  0.164220    C5
163  0.793651  0.008721  0.785306  0.133211    C5
164  0.761905  0.005814  0.991395  0.147797    C5
165  0.761905  0.000000  0.970313  0.124904    C5
166  0.777778  0.005814  0.976336  0.135136    C5
167  0.777778  0.002907  0.534041  0.136731    C5
168  0.777778  0.043605  0.666988  0.040860    C5
169  0.777778  0.043605  0.559856  0.093985    C5
170  0.793651  0.055233  0.580078  0.075564    C5
171  0.761905  0.055233  0.506075  0.068634    C5
172  0.777778  0.055233  0.546949  0.029442    C5
173  0.793651  0.066860  0.750026  0.038442    C5
174  0.777778  0.061047  0.660964  0.087643    C5
175  0.809524  0.031977  0.345593  0.086697    C5
176  0.777778  0.055233  0.627405  0.055811    C5
177  0.761905  0.052326  0.661825  0.083999    C5
178  0.793651  0.049419  0.222542  0.087257    C5
179  0.761905  0.040698  0.442398  0.114437    C5
180  0.777778  0.058140  0.501773  0.129919    C5
181  0.730159  0.058140  0.614067  0.057820    C5
182  0.793651  0.058140  0.733676  0.139855    C5
183  0.793651  0.040698  0.306440  0.093330    C5
184  0.793651  0.029070  0.525006  0.081189    C5
185  0.761905  0.040698  0.459178  0.135293    C5

[186 rows x 5 columns]
In [111]:
test_data_norm['label']=test_data_label['label']
print(test_data_norm)
    Vacation   eCredit    salary  property label
0       0.20  0.058824  0.104637  0.398926    C1
1       0.54  0.021008  0.175059  0.243041    C1
2       0.52  0.231092  0.138339  0.085992    C1
3       0.26  0.151261  0.430086  0.116229    C1
4       0.00  0.016807  0.352657  0.025714    C1
5       0.10  0.016807  0.000000  0.120460    C1
6       0.06  0.021008  0.411123  0.101098    C1
7       0.02  0.042017  0.194228  0.000000    C1
8       0.14  0.277311  0.653424  0.195856    C1
9       0.16  0.260504  0.724349  0.407340    C1
10      0.10  0.941176  0.900403  0.791450    C1
11      0.12  1.000000  0.634813  1.000000    C1
12      0.98  0.000000  0.315399  0.292808    C1
13      0.64  0.193277  0.361676  0.421318    C1
14      0.74  0.147059  0.331496  0.406442    C1
15      0.68  0.218487  0.347089  0.534504    C1
16      0.64  0.105042  0.412481  0.234021    C1
17      0.92  0.126050  0.374252  0.238155    C1
18      1.00  0.000000  0.498999  0.210016    C1
19      0.96  0.050420  1.000000  0.090163    C1
20      0.96  0.042017  0.456243  0.192862    C1
In [112]:
xtrain=train_data_norm.copy()
xtest=test_data_norm.copy()
print(xtrain)
print(xtest)
     Vacation   eCredit    salary  property label
0    0.079365  0.107558  0.219960  0.183167    C1
1    0.158730  0.052326  0.293102  0.112797    C1
2    0.095238  0.177326  0.346023  0.174200    C1
3    0.031746  0.127907  0.309882  0.189984    C1
4    0.222222  0.020349  0.363663  0.127311    C1
5    0.079365  0.223837  0.300847  0.208545    C1
6    0.142857  0.133721  0.359360  0.327773    C1
7    0.142857  0.235465  0.264706  0.177939    C1
8    0.126984  0.206395  0.230286  0.132897    C1
9    0.333333  0.101744  0.231147  0.040939    C1
10   0.380952  0.078488  0.306870  0.174648    C1
11   0.476190  0.034884  0.253519  0.133468    C1
12   0.365079  0.151163  0.302998  0.110698    C1
13   0.428571  0.238372  0.232007  0.241060    C1
14   0.380952  0.061047  0.283207  0.290338    C1
15   0.365079  0.034884  0.193285  0.090016    C1
16   0.380952  0.087209  0.258252  0.142569    C1
17   0.349206  0.241279  0.496179  0.075172    C1
18   0.301587  0.191860  0.481121  0.395361    C1
19   0.206349  0.241279  0.504354  0.417946    C1
20   0.634921  0.136628  0.537483  0.384094    C1
21   0.253968  0.101744  0.546949  0.060457    C1
22   0.079365  0.212209  0.471225  0.177150    C1
23   0.587302  0.168605  0.533611  0.178784    C1
24   0.349206  0.122093  0.487144  0.235479    C1
25   0.126984  0.159884  0.479830  0.136983    C1
26   0.714286  0.049419  0.517692  0.091611    C1
27   0.825397  0.229651  0.534471  0.151038    C1
28   0.476190  0.107558  0.469934  0.322193    C1
29   0.634921  0.125000  0.429921  0.466665    C1
..        ...       ...       ...       ...   ...
156  0.761905  0.011628  0.874798  0.221206    C5
157  0.761905  0.005814  0.469504  0.104541    C5
158  0.777778  0.000000  0.335697  0.143885    C5
159  0.761905  0.005814  0.645476  0.154251    C5
160  0.777778  0.005814  0.611056  0.186268    C5
161  0.777778  0.000000  0.476818  0.161874    C5
162  0.777778  0.000000  0.409700  0.164220    C5
163  0.793651  0.008721  0.785306  0.133211    C5
164  0.761905  0.005814  0.991395  0.147797    C5
165  0.761905  0.000000  0.970313  0.124904    C5
166  0.777778  0.005814  0.976336  0.135136    C5
167  0.777778  0.002907  0.534041  0.136731    C5
168  0.777778  0.043605  0.666988  0.040860    C5
169  0.777778  0.043605  0.559856  0.093985    C5
170  0.793651  0.055233  0.580078  0.075564    C5
171  0.761905  0.055233  0.506075  0.068634    C5
172  0.777778  0.055233  0.546949  0.029442    C5
173  0.793651  0.066860  0.750026  0.038442    C5
174  0.777778  0.061047  0.660964  0.087643    C5
175  0.809524  0.031977  0.345593  0.086697    C5
176  0.777778  0.055233  0.627405  0.055811    C5
177  0.761905  0.052326  0.661825  0.083999    C5
178  0.793651  0.049419  0.222542  0.087257    C5
179  0.761905  0.040698  0.442398  0.114437    C5
180  0.777778  0.058140  0.501773  0.129919    C5
181  0.730159  0.058140  0.614067  0.057820    C5
182  0.793651  0.058140  0.733676  0.139855    C5
183  0.793651  0.040698  0.306440  0.093330    C5
184  0.793651  0.029070  0.525006  0.081189    C5
185  0.761905  0.040698  0.459178  0.135293    C5

[186 rows x 5 columns]
    Vacation   eCredit    salary  property label
0       0.20  0.058824  0.104637  0.398926    C1
1       0.54  0.021008  0.175059  0.243041    C1
2       0.52  0.231092  0.138339  0.085992    C1
3       0.26  0.151261  0.430086  0.116229    C1
4       0.00  0.016807  0.352657  0.025714    C1
5       0.10  0.016807  0.000000  0.120460    C1
6       0.06  0.021008  0.411123  0.101098    C1
7       0.02  0.042017  0.194228  0.000000    C1
8       0.14  0.277311  0.653424  0.195856    C1
9       0.16  0.260504  0.724349  0.407340    C1
10      0.10  0.941176  0.900403  0.791450    C1
11      0.12  1.000000  0.634813  1.000000    C1
12      0.98  0.000000  0.315399  0.292808    C1
13      0.64  0.193277  0.361676  0.421318    C1
14      0.74  0.147059  0.331496  0.406442    C1
15      0.68  0.218487  0.347089  0.534504    C1
16      0.64  0.105042  0.412481  0.234021    C1
17      0.92  0.126050  0.374252  0.238155    C1
18      1.00  0.000000  0.498999  0.210016    C1
19      0.96  0.050420  1.000000  0.090163    C1
20      0.96  0.042017  0.456243  0.192862    C1
In [76]:
def euclideanDistance(instance1, instance2, length):
	distance = 0
	for x in range(length):
		distance += pow((instance1[x] - instance2[x]), 2)
	return math.sqrt(distance)
 
def getNeighbors(trainingSet, testInstance, k):
	distances = []
	length = len(testInstance)-1
	for x in range(len(trainingSet)):
		dist = euclideanDistance(testInstance, trainingSet[x], length)
		distances.append((trainingSet[x], dist))
	distances.sort(key=operator.itemgetter(1))
	neighbors = []
	for x in range(k):
		neighbors.append(distances[x][0])
	return neighbors
 
def getResponse(neighbors):
	classVotes = {}
	for x in range(len(neighbors)):
		response = neighbors[x][-1]
		if response in classVotes:
			classVotes[response] += 1
		else:
			classVotes[response] = 1
	sortedVotes = sorted(classVotes.items(), key=operator.itemgetter(1), reverse=True)
	return sortedVotes[0][0]
 
def getAccuracy(testSet, predictions):
	correct = 0
	for x in range(len(testSet)):
		if testSet[x][-1] == predictions[x]:
			correct += 1
	return (correct/float(len(testSet))) * 100.0
In [116]:
predictions=[]
k = 5
for x in range(len(xtest)):
	neighbors = getNeighbors(xtrain.values, xtest.values[x], k)
    
	result = getResponse(neighbors)
	predictions.append(result)

accuracy = getAccuracy(xtest.values, predictions)
print(accuracy)
33.33333333333333
In [ ]:
